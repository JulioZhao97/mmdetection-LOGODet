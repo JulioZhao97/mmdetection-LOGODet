{
 "cells": [
  {
   "cell_type": "code",
   "execution_count": 7,
   "metadata": {},
   "outputs": [],
   "source": [
    "import os\n",
    "import xml.etree.ElementTree as ET\n",
    "\n",
    "CLASSES = ('001-CCTV1', '002-beijingweishi', '003-tianjinweishi', '004-CNN', '005-shandongweishi', '006-henanweishi', '007-guangdongweishi', '008-shenzhenweishi', '010-sichuanweishi', '014-VOA', '016-CBS', '017-KTN', '018-NOWTHIS', '015-DWTV', '019-TVBS', '017-iTV', '020-tbs', '019-fenghuangweishi', '011-history_channel')\n",
    "\n",
    "data_all, keys = [], []\n",
    "for cls in CLASSES:\n",
    "    data_all.append([])\n",
    "    keys.append(cls)\n",
    "\n",
    "img_all = os.listdir('/data/zhaozhiyuan/tb_variation/VOCdevkit_all/VOC2007/Annotations')\n",
    "img_all = [img.split('.')[0] for img in img_all]\n",
    "for img in img_all:\n",
    "    anno = ET.parse(os.path.join('/data/zhaozhiyuan/tb_variation/VOCdevkit_all/VOC2007/Annotations/{}.xml'.format(img)))\n",
    "    name = anno.find('object').find('name').text\n",
    "    style = anno.find('object').find('style').text\n",
    "    if style not in data_all[keys.index(name)]:\n",
    "        data_all[keys.index(name)].append({style : [img]})\n",
    "        continue\n",
    "    data_all[keys.index(name)][style].append(img)"
   ]
  },
  {
   "cell_type": "code",
   "execution_count": 9,
   "metadata": {},
   "outputs": [],
   "source": [
    "import os\n",
    "import random\n",
    "import xml.etree.ElementTree as ET\n",
    "\n",
    "CLASSES = ['001-CCTV1', '002-beijingweishi', '003-tianjinweishi', '004-CNN', '005-shandongweishi', '006-henanweishi', '007-guangdongweishi', '008-shenzhenweishi', '010-sichuanweishi', '014-VOA', '016-CBS', '017-KTN', '018-NOWTHIS', '015-DWTV', '019-TVBS', '017-iTV', '020-tbs', '019-fenghuangweishi', '011-history_channel']\n",
    "data_all = {}\n",
    "\n",
    "\n",
    "f1 = open('/data/zhaozhiyuan/tb_variation/VOCdevkit_all/VOC2007/ImageSets/Main/test_within_style_sample.txt', 'w')\n",
    "f2 = open('/data/zhaozhiyuan/tb_variation/VOCdevkit_all/VOC2007/ImageSets/Main/test_across_style_sample.txt', 'w')\n",
    "\n",
    "img_all = os.listdir('/data/zhaozhiyuan/tb_variation/VOCdevkit_all/VOC2007/Annotations')\n",
    "img_all = [img.split('.')[0] for img in img_all]\n",
    "for img in img_all:\n",
    "    anno = ET.parse(os.path.join('/data/zhaozhiyuan/tb_variation/VOCdevkit_all/VOC2007/Annotations/{}.xml'.format(img)))\n",
    "    name = anno.find('object').find('name').text\n",
    "    if name not in data_all:\n",
    "        data_all[name] = [img]\n",
    "        continue\n",
    "    data_all[name].append(img)\n",
    "    \n",
    "for CLASS in CLASSES:\n",
    "    for i in range(200):\n",
    "        while True:\n",
    "            img = random.choice(data_all[CLASS])\n",
    "            anno = ET.parse(os.path.join('/data/zhaozhiyuan/tb_variation/VOCdevkit_all/VOC2007/Annotations/{}.xml'.format(img)))\n",
    "            style = anno.find('object').find('style').text\n",
    "            if style == '0' or style == '1':\n",
    "                f1.write(img)\n",
    "                f1.write('\\n')\n",
    "                break\n",
    "    for i in range(200):\n",
    "        while True:\n",
    "            img = random.choice(data_all[CLASS])\n",
    "            anno = ET.parse(os.path.join('/data/zhaozhiyuan/tb_variation/VOCdevkit_all/VOC2007/Annotations/{}.xml'.format(img)))\n",
    "            style = anno.find('object').find('style').text\n",
    "            if style == '2':\n",
    "                f2.write(img)\n",
    "                f2.write('\\n')\n",
    "                break\n",
    "f1.close()\n",
    "f2.close()"
   ]
  },
  {
   "cell_type": "markdown",
   "metadata": {},
   "source": [
    "统计项目数据"
   ]
  },
  {
   "cell_type": "code",
   "execution_count": 14,
   "metadata": {},
   "outputs": [
    {
     "name": "stdout",
     "output_type": "stream",
     "text": [
      "zhongguoneimu 703\n",
      "xiwangzhisheng 809\n",
      "FOX 630\n",
      "zhongguoguangbogongsi 996\n",
      "shijiemenxinwenwang 738\n",
      "CNN_news 218\n",
      "falungong 2205\n",
      "wanweiduzhe 968\n",
      "zhonghuadianshigongsi 1012\n",
      "ZDF 987\n",
      "jiaguozhisheng 897\n",
      "RFI 967\n",
      "senzheshentan 940\n",
      "dajiyuan 971\n",
      "baoshengfangtan 766\n",
      "redianhudong 721\n",
      "mingjinghuopai 992\n",
      "ziyouzhongguo 915\n",
      "BBC_news 68\n",
      "xinwenshishibao 986\n",
      "zhongtianxinwen 990\n",
      "sanlidianshitai 985\n",
      "DW_TV 966\n",
      "zhoumochaguan 924\n",
      "bowenshe 996\n",
      "huanqiuzhiji 943\n",
      "minshi 1689\n",
      "zhongguojinwen 817\n",
      "zhongguoreping 568\n",
      "FT_zhongwenwang 927\n",
      "fanqiangbikan 795\n",
      "VOA 948\n",
      "gongshi 956\n",
      "SVT 999\n",
      "aboluoxinwen 992\n",
      "wenqiandeshijiezhoubao 999\n",
      "ABC_news 323\n",
      "quanqiushiye 579\n",
      "ABC_australia_news 973\n",
      "ziyouyazhou 978\n",
      "zhenlizhiguang 1019\n"
     ]
    }
   ],
   "source": [
    "CLASSES = ('zhongguoneimu', 'xiwangzhisheng', 'FOX', 'zhongguoguangbogongsi', 'shijiemenxinwenwang', 'CNN_news', 'falungong', 'wanweiduzhe', 'zhonghuadianshigongsi', 'ZDF', 'jiaguozhisheng', 'RFI', 'senzheshentan', 'dajiyuan', 'baoshengfangtan', 'redianhudong', 'mingjinghuopai', 'ziyouzhongguo', 'BBC_news', 'xinwenshishibao', 'zhongtianxinwen', 'sanlidianshitai', 'DW_TV', 'zhoumochaguan', 'bowenshe', 'huanqiuzhiji', 'minshi', 'zhongguojinwen', 'zhongguoreping', 'FT_zhongwenwang', 'fanqiangbikan', 'VOA', 'gongshi', 'SVT', 'aboluoxinwen', 'wenqiandeshijiezhoubao', 'ABC_news', 'quanqiushiye', 'ABC_australia_news', 'ziyouyazhou', 'zhenlizhiguang')\n",
    "\n",
    "count = {}\n",
    "for CLASS in CLASSES:\n",
    "    count[CLASS] = 0\n",
    "img_all = os.listdir('/data/zhaozhiyuan/VOCdevkit_0110/VOC2007/Annotations')\n",
    "img_all = [img.split('.')[0] for img in img_all if 'DS' not in img]\n",
    "for img in img_all:\n",
    "    anno = ET.parse(os.path.join('/data/zhaozhiyuan/VOCdevkit_0110/VOC2007/Annotations/{}.xml'.format(img)))\n",
    "    name = anno.find('object').find('name').text\n",
    "    count[name] += 1\n",
    "\n",
    "for name, c in count.items():\n",
    "    print(name, c)"
   ]
  },
  {
   "cell_type": "code",
   "execution_count": null,
   "metadata": {},
   "outputs": [],
   "source": []
  }
 ],
 "metadata": {
  "kernelspec": {
   "display_name": "Python 3",
   "language": "python",
   "name": "python3"
  },
  "language_info": {
   "codemirror_mode": {
    "name": "ipython",
    "version": 3
   },
   "file_extension": ".py",
   "mimetype": "text/x-python",
   "name": "python",
   "nbconvert_exporter": "python",
   "pygments_lexer": "ipython3",
   "version": "3.7.9"
  }
 },
 "nbformat": 4,
 "nbformat_minor": 4
}
