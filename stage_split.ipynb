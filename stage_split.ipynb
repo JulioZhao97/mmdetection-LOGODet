{
 "cells": [
  {
   "cell_type": "code",
   "execution_count": 7,
   "metadata": {},
   "outputs": [
    {
     "name": "stdout",
     "output_type": "stream",
     "text": [
      "['001-CCTV1', '002-beijingweishi', '003-tianjinweishi', '004-CNN', '005-shandongweishi', '006-henanweishi', '007-guangdongweishi', '008-shenzhenweishi', '010-sichuanweishi', '014-VOA', '016-CBS', '017-KTN', '018-NOWTHIS', '015-DWTV', '019-TVBS', '017-iTV', '020-tbs', '019-fenghuangweishi', '011-history_channel']\n",
      "19\n"
     ]
    },
    {
     "ename": "SystemExit",
     "evalue": "",
     "output_type": "error",
     "traceback": [
      "An exception has occurred, use %tb to see the full traceback.\n",
      "\u001b[0;31mSystemExit\u001b[0m\n"
     ]
    }
   ],
   "source": [
    "# 将所有的数据分割成多个stage的\n",
    "# stage1:只使用style=0的训练基础网络（fasterRCNN），同时更新memory module\n",
    "# stage2:训练LOGOFasterRCNN，style=1的数据来训练\n",
    "# LOGOFasterRCNN思想：通过比较来match\n",
    "\n",
    "import os\n",
    "import sys\n",
    "import shutil\n",
    "import xml.etree.ElementTree as ET\n",
    "\n",
    "base_path = '/data/zhaozhiyuan/tb_variation'\n",
    "datapath = '/data/zhaozhiyuan/tb_variation/VOCdevkit_all/VOC2007'\n",
    "pic_path = os.path.join(datapath, 'JPEGImages')\n",
    "anno_path = os.path.join(datapath, 'Annotations')\n",
    "stages = [[], [], []]\n",
    "pics_all = os.listdir(pic_path)\n",
    "indices = [index.split('.')[0] for index in pics_all]\n",
    "classes = []\n",
    "for index in indices:\n",
    "    anno_file = os.path.join(anno_path, '{}.xml'.format(index))\n",
    "    anno = ET.parse(anno_file).getroot()\n",
    "    style = int(anno.find('object').find('style').text)\n",
    "    name = anno.find('object').find('name').text\n",
    "    if name not in classes:\n",
    "        classes.append(name)\n",
    "    try:\n",
    "        stages[style - 1].append(index)\n",
    "    except IndexError:\n",
    "        continue\n",
    "print(classes)\n",
    "print(len(classes))\n",
    "sys.exit()\n",
    "        \n",
    "step = 5\n",
    "for stage in range(len(stages)):\n",
    "    print(stage)\n",
    "    os.mkdir(os.path.join(base_path, 'VOCdevkit_stage{}'.format(stage)))\n",
    "    os.mkdir(os.path.join(base_path, 'VOCdevkit_stage{}'.format(stage), 'VOC2007'))\n",
    "    os.mkdir(os.path.join(base_path, 'VOCdevkit_stage{}'.format(stage), 'VOC2007', 'JPEGImages'))\n",
    "    os.mkdir(os.path.join(base_path, 'VOCdevkit_stage{}'.format(stage), 'VOC2007', 'Annotations'))\n",
    "    os.mkdir(os.path.join(base_path, 'VOCdevkit_stage{}'.format(stage), 'VOC2007', 'ImageSets'))\n",
    "    os.mkdir(os.path.join(base_path, 'VOCdevkit_stage{}'.format(stage), 'VOC2007', 'ImageSets', 'Main'))\n",
    "    trainval = open(os.path.join(base_path, 'VOCdevkit_stage{}'.format(stage), 'VOC2007', 'ImageSets', 'Main', 'trainval.txt'), 'w')\n",
    "    test = open(os.path.join(base_path, 'VOCdevkit_stage{}'.format(stage), 'VOC2007', 'ImageSets', 'Main', 'test.txt'), 'w')\n",
    "    indices = stages[stage]\n",
    "    for i, index in enumerate(indices):\n",
    "        shutil.copy(\n",
    "            src = os.path.join(datapath, 'JPEGImages', '{}.jpg'.format(index)),\n",
    "            dst = os.path.join(base_path, 'VOCdevkit_stage{}'.format(stage), 'VOC2007', 'JPEGImages', '{}.jpg'.format(index))\n",
    "        )\n",
    "        shutil.copy(\n",
    "            src = os.path.join(datapath, 'Annotations', '{}.xml'.format(index)),\n",
    "            dst = os.path.join(base_path, 'VOCdevkit_stage{}'.format(stage), 'VOC2007', 'Annotations', '{}.xml'.format(index))\n",
    "        )\n",
    "        # stage2没有train只有test\n",
    "        if stage != 2:\n",
    "            if i % 5 == 0:\n",
    "                test.write(index + '\\n')\n",
    "            else:\n",
    "                trainval.write(index + '\\n')\n",
    "        elif stage == 2:\n",
    "            test.write(index + '\\n')\n",
    "    trainval.close()\n",
    "    test.close()"
   ]
  },
  {
   "cell_type": "code",
   "execution_count": null,
   "metadata": {},
   "outputs": [],
   "source": []
  }
 ],
 "metadata": {
  "kernelspec": {
   "display_name": "Python 3",
   "language": "python",
   "name": "python3"
  },
  "language_info": {
   "codemirror_mode": {
    "name": "ipython",
    "version": 3
   },
   "file_extension": ".py",
   "mimetype": "text/x-python",
   "name": "python",
   "nbconvert_exporter": "python",
   "pygments_lexer": "ipython3",
   "version": "3.7.9"
  }
 },
 "nbformat": 4,
 "nbformat_minor": 4
}
